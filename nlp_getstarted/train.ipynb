{
 "cells": [
  {
   "cell_type": "code",
   "id": "initial_id",
   "metadata": {
    "collapsed": true,
    "ExecuteTime": {
     "end_time": "2025-04-04T07:20:45.569699Z",
     "start_time": "2025-04-04T07:20:37.726652Z"
    }
   },
   "source": [
    "import pandas as pd\n",
    "from sklearn.model_selection import train_test_split\n",
    "train_df=pd.read_csv('data/train.csv')\n",
    "test_df=pd.read_csv('data/test.csv')\n",
    "print(train_df.head())\n",
    "train_df['text']=train_df['text'].str.lower()\n",
    "train_df['text']=train_df['text'].str.replace(r'[^\\w\\s]','')\n",
    "train_texts,val_texts,train_labels,val_labels=train_test_split(train_df['text'],train_df['target'],test_size=0.2,random_state=42)"
   ],
   "outputs": [
    {
     "name": "stdout",
     "output_type": "stream",
     "text": [
      "   id keyword location                                               text  \\\n",
      "0   1     NaN      NaN  Our Deeds are the Reason of this #earthquake M...   \n",
      "1   4     NaN      NaN             Forest fire near La Ronge Sask. Canada   \n",
      "2   5     NaN      NaN  All residents asked to 'shelter in place' are ...   \n",
      "3   6     NaN      NaN  13,000 people receive #wildfires evacuation or...   \n",
      "4   7     NaN      NaN  Just got sent this photo from Ruby #Alaska as ...   \n",
      "\n",
      "   target  \n",
      "0       1  \n",
      "1       1  \n",
      "2       1  \n",
      "3       1  \n",
      "4       1  \n"
     ]
    }
   ],
   "execution_count": 1
  },
  {
   "metadata": {
    "ExecuteTime": {
     "end_time": "2025-04-04T07:32:37.490860Z",
     "start_time": "2025-04-04T07:32:23.109163Z"
    }
   },
   "cell_type": "code",
   "source": [
    "from transformers import RobertaTokenizer\n",
    "\n",
    "# 加载 RoBERTa tokenizer\n",
    "tokenizer = RobertaTokenizer.from_pretrained('roberta-base')\n",
    "\n",
    "# 对文本进行 tokenization 和 padding\n",
    "def tokenize_function(texts):\n",
    "    return tokenizer(texts.tolist(), padding=True, truncation=True, max_length=128)\n",
    "\n",
    "train_encodings = tokenize_function(train_texts)\n",
    "val_encodings = tokenize_function(val_texts)\n",
    "\n",
    "# 转换为 torch tensors\n",
    "import torch\n",
    "class DisasterTweetsDataset(torch.utils.data.Dataset):\n",
    "    def __init__(self, encodings, labels):\n",
    "        self.encodings = encodings\n",
    "        self.labels = labels\n",
    "\n",
    "    def __getitem__(self, idx):\n",
    "        item = {key: torch.tensor(val[idx]) for key, val in self.encodings.items()}\n",
    "        item['labels'] = torch.tensor(self.labels[idx])\n",
    "        return item\n",
    "\n",
    "    def __len__(self):\n",
    "        return len(self.labels)\n",
    "\n",
    "# 创建训练和验证数据集\n",
    "train_dataset = DisasterTweetsDataset(train_encodings, train_labels)\n",
    "val_dataset = DisasterTweetsDataset(val_encodings, val_labels)\n"
   ],
   "id": "36b36d38676b6ac7",
   "outputs": [],
   "execution_count": 10
  },
  {
   "metadata": {
    "ExecuteTime": {
     "end_time": "2025-04-04T07:21:57.535566Z",
     "start_time": "2025-04-04T07:21:05.732044Z"
    }
   },
   "cell_type": "code",
   "source": [
    "\n",
    "from transformers import RobertaForSequenceClassification, RobertaTokenizer\n",
    "\n",
    "# 使用 RoBERTa 替代 BERT\n",
    "model = RobertaForSequenceClassification.from_pretrained('roberta-base', num_labels=2)\n",
    "\n"
   ],
   "id": "f3973d4f7c8e1135",
   "outputs": [
    {
     "name": "stderr",
     "output_type": "stream",
     "text": [
      "Some weights of RobertaForSequenceClassification were not initialized from the model checkpoint at roberta-base and are newly initialized: ['classifier.dense.bias', 'classifier.dense.weight', 'classifier.out_proj.bias', 'classifier.out_proj.weight']\n",
      "You should probably TRAIN this model on a down-stream task to be able to use it for predictions and inference.\n"
     ]
    }
   ],
   "execution_count": 3
  },
  {
   "metadata": {
    "ExecuteTime": {
     "end_time": "2025-04-04T07:21:58.884557Z",
     "start_time": "2025-04-04T07:21:57.629966Z"
    }
   },
   "cell_type": "code",
   "source": [
    "from transformers import Trainer, TrainingArguments\n",
    "from sklearn.metrics import f1_score\n",
    "import numpy as np\n",
    "training_args = TrainingArguments(\n",
    "    load_best_model_at_end=True,\n",
    "    learning_rate=3e-5,\n",
    "    lr_scheduler_type='cosine',\n",
    "    output_dir='./result',\n",
    "    num_train_epochs=5,\n",
    "    per_device_train_batch_size=32,\n",
    "    per_device_eval_batch_size=8,\n",
    "    warmup_steps=500,\n",
    "    weight_decay=0.01,\n",
    "    logging_dir='./logs',\n",
    "    eval_strategy='epoch',\n",
    "    save_strategy='epoch',\n",
    ")\n",
    "def compute_metrics(p):\n",
    "    predictions, labels = p\n",
    "    preds = np.argmax(predictions, axis=1)  # 获取预测标签\n",
    "    f1 = f1_score(labels, preds)\n",
    "    return {\"f1\": f1}\n",
    "trainer = Trainer(\n",
    "    model=model,\n",
    "    args=training_args,\n",
    "    train_dataset=train_dataset,\n",
    "    eval_dataset=val_dataset,\n",
    "    compute_metrics=compute_metrics\n",
    ")\n",
    "\n",
    "print(training_args.device)  # 输出: cuda 代表使用的是 GPU"
   ],
   "id": "25400bde1fcda179",
   "outputs": [
    {
     "name": "stdout",
     "output_type": "stream",
     "text": [
      "cuda:0\n"
     ]
    }
   ],
   "execution_count": 4
  },
  {
   "metadata": {
    "ExecuteTime": {
     "end_time": "2025-04-04T07:21:58.995302Z",
     "start_time": "2025-04-04T07:21:58.980084Z"
    }
   },
   "cell_type": "code",
   "source": "",
   "id": "6144161554aa7250",
   "outputs": [],
   "execution_count": null
  },
  {
   "metadata": {
    "ExecuteTime": {
     "end_time": "2025-04-04T07:27:09.169323Z",
     "start_time": "2025-04-04T07:21:59.088866Z"
    }
   },
   "cell_type": "code",
   "source": [
    "trainer.train()\n",
    "# 输出评估结果\n",
    "\n"
   ],
   "id": "bc678bb4ed8d6f7a",
   "outputs": [
    {
     "name": "stderr",
     "output_type": "stream",
     "text": [
      "D:\\anaconda\\envs\\nlp\\lib\\site-packages\\transformers\\models\\roberta\\modeling_roberta.py:370: UserWarning: 1Torch was not compiled with flash attention. (Triggered internally at C:\\actions-runner\\_work\\pytorch\\pytorch\\builder\\windows\\pytorch\\aten\\src\\ATen\\native\\transformers\\cuda\\sdp_utils.cpp:555.)\n",
      "  attn_output = torch.nn.functional.scaled_dot_product_attention(\n"
     ]
    },
    {
     "data": {
      "text/plain": [
       "<IPython.core.display.HTML object>"
      ],
      "text/html": [
       "\n",
       "    <div>\n",
       "      \n",
       "      <progress value='955' max='955' style='width:300px; height:20px; vertical-align: middle;'></progress>\n",
       "      [955/955 05:08, Epoch 5/5]\n",
       "    </div>\n",
       "    <table border=\"1\" class=\"dataframe\">\n",
       "  <thead>\n",
       " <tr style=\"text-align: left;\">\n",
       "      <th>Epoch</th>\n",
       "      <th>Training Loss</th>\n",
       "      <th>Validation Loss</th>\n",
       "      <th>F1</th>\n",
       "    </tr>\n",
       "  </thead>\n",
       "  <tbody>\n",
       "    <tr>\n",
       "      <td>1</td>\n",
       "      <td>No log</td>\n",
       "      <td>0.392322</td>\n",
       "      <td>0.800000</td>\n",
       "    </tr>\n",
       "    <tr>\n",
       "      <td>2</td>\n",
       "      <td>No log</td>\n",
       "      <td>0.438893</td>\n",
       "      <td>0.790560</td>\n",
       "    </tr>\n",
       "    <tr>\n",
       "      <td>3</td>\n",
       "      <td>0.456700</td>\n",
       "      <td>0.449904</td>\n",
       "      <td>0.783784</td>\n",
       "    </tr>\n",
       "    <tr>\n",
       "      <td>4</td>\n",
       "      <td>0.456700</td>\n",
       "      <td>0.501359</td>\n",
       "      <td>0.800597</td>\n",
       "    </tr>\n",
       "    <tr>\n",
       "      <td>5</td>\n",
       "      <td>0.456700</td>\n",
       "      <td>0.617964</td>\n",
       "      <td>0.790142</td>\n",
       "    </tr>\n",
       "  </tbody>\n",
       "</table><p>"
      ]
     },
     "metadata": {},
     "output_type": "display_data"
    },
    {
     "data": {
      "text/plain": [
       "TrainOutput(global_step=955, training_loss=0.3571565238593136, metrics={'train_runtime': 309.3547, 'train_samples_per_second': 98.431, 'train_steps_per_second': 3.087, 'total_flos': 1330072634835000.0, 'train_loss': 0.3571565238593136, 'epoch': 5.0})"
      ]
     },
     "execution_count": 5,
     "metadata": {},
     "output_type": "execute_result"
    }
   ],
   "execution_count": 5
  },
  {
   "metadata": {
    "ExecuteTime": {
     "end_time": "2025-04-04T07:27:13.553693Z",
     "start_time": "2025-04-04T07:27:09.403382Z"
    }
   },
   "cell_type": "code",
   "source": [
    "# 在验证集上评估模型\n",
    "eval_results = trainer.evaluate()\n",
    "print(f\"Evaluation Results: {eval_results}\")\n"
   ],
   "id": "8ce68dbc37bfda22",
   "outputs": [
    {
     "data": {
      "text/plain": [
       "<IPython.core.display.HTML object>"
      ],
      "text/html": []
     },
     "metadata": {},
     "output_type": "display_data"
    },
    {
     "name": "stdout",
     "output_type": "stream",
     "text": [
      "Evaluation Results: {'eval_loss': 0.39232173562049866, 'eval_f1': 0.8, 'eval_runtime': 4.14, 'eval_samples_per_second': 367.872, 'eval_steps_per_second': 46.135, 'epoch': 5.0}\n"
     ]
    }
   ],
   "execution_count": 6
  },
  {
   "metadata": {
    "ExecuteTime": {
     "end_time": "2025-04-04T07:32:47.803648Z",
     "start_time": "2025-04-04T07:32:37.501569Z"
    }
   },
   "cell_type": "code",
   "source": [
    "# 对测试集进行预测\n",
    "test_encodings = tokenizer(list(test_df['text']), truncation=True, padding=True, max_length=128)\n",
    "test_dataset = DisasterTweetsDataset(test_encodings, [0] * len(test_df))  # 这里标签设为0，实际会被预测\n",
    "\n",
    "# 使用模型生成预测\n",
    "predictions = trainer.predict(test_dataset)\n",
    "\n",
    "# 获取预测结果\n",
    "predicted_labels = predictions.predictions.argmax(axis=-1)\n",
    "\n",
    "# 创建提交文件\n",
    "submission = pd.DataFrame({'id': test_df['id'], 'target': predicted_labels})\n",
    "submission.to_csv('submission.csv', index=False)\n"
   ],
   "id": "b57713931bcb667",
   "outputs": [],
   "execution_count": 11
  }
 ],
 "metadata": {
  "kernelspec": {
   "display_name": "Python 3",
   "language": "python",
   "name": "python3"
  },
  "language_info": {
   "codemirror_mode": {
    "name": "ipython",
    "version": 2
   },
   "file_extension": ".py",
   "mimetype": "text/x-python",
   "name": "python",
   "nbconvert_exporter": "python",
   "pygments_lexer": "ipython2",
   "version": "2.7.6"
  }
 },
 "nbformat": 4,
 "nbformat_minor": 5
}
